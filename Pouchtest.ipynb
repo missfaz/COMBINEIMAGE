{
  "nbformat": 4,
  "nbformat_minor": 0,
  "metadata": {
    "colab": {
      "name": "Untitled1.ipynb",
      "provenance": [],
      "collapsed_sections": [],
      "authorship_tag": "ABX9TyMA9HM+Zt/slKqDQIpEClqs",
      "include_colab_link": true
    },
    "kernelspec": {
      "name": "python3",
      "display_name": "Python 3"
    }
  },
  "cells": [
    {
      "cell_type": "markdown",
      "metadata": {
        "id": "view-in-github",
        "colab_type": "text"
      },
      "source": [
        "<a href=\"https://colab.research.google.com/github/missfaz/COMBINEIMAGE/blob/master/Pouchtest.ipynb\" target=\"_parent\"><img src=\"https://colab.research.google.com/assets/colab-badge.svg\" alt=\"Open In Colab\"/></a>"
      ]
    },
    {
      "cell_type": "code",
      "metadata": {
        "id": "_dL8LZ22OzCc",
        "colab_type": "code",
        "colab": {}
      },
      "source": [
        ""
      ],
      "execution_count": 0,
      "outputs": []
    },
    {
      "cell_type": "code",
      "metadata": {
        "id": "mPPvYQxpjR36",
        "colab_type": "code",
        "colab": {}
      },
      "source": [
        "!mkdir images\n",
        "!mkdir images/classONE\n",
        "!mkdir images/classTWO"
      ],
      "execution_count": 0,
      "outputs": []
    },
    {
      "cell_type": "code",
      "metadata": {
        "id": "6OopEs0GPJ79",
        "colab_type": "code",
        "colab": {}
      },
      "source": [
        ""
      ],
      "execution_count": 0,
      "outputs": []
    },
    {
      "cell_type": "code",
      "metadata": {
        "id": "E50myKzW8yBG",
        "colab_type": "code",
        "outputId": "71484d1e-762f-48a9-9dd1-9fd445658a54",
        "colab": {
          "base_uri": "https://localhost:8080/",
          "height": 326
        }
      },
      "source": [
        "!wget --no-check-certificate 'https://docs.google.com/uc?export=download&id=1nKcZbz4VcxQesBeFR3a-IjkI7EtyV6B4' -O deeplearn.py"
      ],
      "execution_count": 2,
      "outputs": [
        {
          "output_type": "stream",
          "text": [
            "--2020-05-28 03:04:05--  https://docs.google.com/uc?export=download&id=1nKcZbz4VcxQesBeFR3a-IjkI7EtyV6B4\n",
            "Resolving docs.google.com (docs.google.com)... 74.125.31.113, 74.125.31.139, 74.125.31.101, ...\n",
            "Connecting to docs.google.com (docs.google.com)|74.125.31.113|:443... connected.\n",
            "HTTP request sent, awaiting response... 302 Moved Temporarily\n",
            "Location: https://doc-0c-a0-docs.googleusercontent.com/docs/securesc/ha0ro937gcuc7l7deffksulhg5h7mbp1/frc3e5tq633n9543f2g6f7gfboel3en5/1590635025000/04224418538677720728/*/1nKcZbz4VcxQesBeFR3a-IjkI7EtyV6B4?e=download [following]\n",
            "Warning: wildcards not supported in HTTP.\n",
            "--2020-05-28 03:04:05--  https://doc-0c-a0-docs.googleusercontent.com/docs/securesc/ha0ro937gcuc7l7deffksulhg5h7mbp1/frc3e5tq633n9543f2g6f7gfboel3en5/1590635025000/04224418538677720728/*/1nKcZbz4VcxQesBeFR3a-IjkI7EtyV6B4?e=download\n",
            "Resolving doc-0c-a0-docs.googleusercontent.com (doc-0c-a0-docs.googleusercontent.com)... 172.217.203.132, 2607:f8b0:400c:c07::84\n",
            "Connecting to doc-0c-a0-docs.googleusercontent.com (doc-0c-a0-docs.googleusercontent.com)|172.217.203.132|:443... connected.\n",
            "HTTP request sent, awaiting response... 200 OK\n",
            "Length: 4372 (4.3K) [text/plain]\n",
            "Saving to: ‘deeplearn.py’\n",
            "\n",
            "deeplearn.py        100%[===================>]   4.27K  --.-KB/s    in 0s      \n",
            "\n",
            "2020-05-28 03:04:06 (52.9 MB/s) - ‘deeplearn.py’ saved [4372/4372]\n",
            "\n"
          ],
          "name": "stdout"
        }
      ]
    },
    {
      "cell_type": "code",
      "metadata": {
        "id": "ySWH5J-vPRzb",
        "colab_type": "code",
        "colab": {}
      },
      "source": [
        ""
      ],
      "execution_count": 0,
      "outputs": []
    },
    {
      "cell_type": "code",
      "metadata": {
        "id": "jRQ8onbQ0IGz",
        "colab_type": "code",
        "colab": {}
      },
      "source": [
        "from IPython.display import display, Javascript\n",
        "from google.colab.output import eval_js\n",
        "from base64 import b64decode\n",
        "\n",
        "def take_photo(filename='photo.jpg', quality=0.8):\n",
        "  js = Javascript('''\n",
        "    async function takePhoto(quality) {\n",
        "      const div = document.createElement('div');\n",
        "      const capture = document.createElement('button');\n",
        "      capture.textContent = 'Capture';\n",
        "      div.appendChild(capture);\n",
        "\n",
        "      const video = document.createElement('video');\n",
        "      video.style.display = 'block';\n",
        "      const stream = await navigator.mediaDevices.getUserMedia({video: true});\n",
        "\n",
        "      document.body.appendChild(div);\n",
        "      div.appendChild(video);\n",
        "      video.srcObject = stream;\n",
        "      await video.play();\n",
        "\n",
        "      // Resize the output to fit the video element.\n",
        "      google.colab.output.setIframeHeight(document.documentElement.scrollHeight, true);\n",
        "\n",
        "      // Wait for Capture to be clicked.\n",
        "      await new Promise((resolve) => capture.onclick = resolve);\n",
        "\n",
        "      const canvas = document.createElement('canvas');\n",
        "      canvas.width = video.videoWidth;\n",
        "      canvas.height = video.videoHeight;\n",
        "      canvas.getContext('2d').drawImage(video, 0, 0);\n",
        "      stream.getVideoTracks()[0].stop();\n",
        "      div.remove();\n",
        "      return canvas.toDataURL('image/jpeg', quality);\n",
        "    }\n",
        "    ''')\n",
        "  display(js)\n",
        "  data = eval_js('takePhoto({})'.format(quality))\n",
        "  binary = b64decode(data.split(',')[1])\n",
        "  with open(filename, 'wb') as f:\n",
        "    f.write(binary)\n",
        "  return filename"
      ],
      "execution_count": 0,
      "outputs": []
    },
    {
      "cell_type": "code",
      "metadata": {
        "id": "BgsCtFydPT5N",
        "colab_type": "code",
        "colab": {}
      },
      "source": [
        ""
      ],
      "execution_count": 0,
      "outputs": []
    },
    {
      "cell_type": "code",
      "metadata": {
        "id": "Ldhx_WI1098f",
        "colab_type": "code",
        "colab": {}
      },
      "source": [
        "from IPython.display import Image\n",
        "i = 0\n",
        "while(1):\n",
        "  try:\n",
        "    filename = take_photo('images/classONE/'+str(i)+'.jpg')\n",
        "    print('Saved to {}'.format(filename))\n",
        "    i+=1\n",
        "  except Exception as err:\n",
        "    print(str(err))"
      ],
      "execution_count": 0,
      "outputs": []
    },
    {
      "cell_type": "code",
      "metadata": {
        "id": "JJESlr2MQZB5",
        "colab_type": "code",
        "colab": {}
      },
      "source": [
        ""
      ],
      "execution_count": 0,
      "outputs": []
    },
    {
      "cell_type": "code",
      "metadata": {
        "id": "LzWrFXjp5UK9",
        "colab_type": "code",
        "colab": {}
      },
      "source": [
        "from IPython.display import Image\n",
        "i = 10\n",
        "while(1):\n",
        "\n",
        "  try:\n",
        "    filename = take_photo('images/classTWO/'+str(i)+'.jpg')\n",
        "    print('Saved to {}'.format(filename))\n",
        "    i+=1    \n",
        "  except Exception as err:\n",
        "    print(str(err))"
      ],
      "execution_count": 0,
      "outputs": []
    },
    {
      "cell_type": "code",
      "metadata": {
        "id": "dwrmOFw6RjE1",
        "colab_type": "code",
        "colab": {
          "base_uri": "https://localhost:8080/",
          "height": 309
        },
        "outputId": "c0e5eb08-ae9d-4123-aa4a-f4148b6a3042"
      },
      "source": [
        "from deeplearn import trainInit, train,checkData\n",
        "\n",
        "\n",
        "'''it return images in required format and \n",
        "number of images use in each step'''\n",
        "train_generator, step_size_train = trainInit()\n",
        "\n",
        "'''train the images and save a model\n",
        "epochs means how many times training need to done'''\n",
        "train(train_generator, step_size_train,  epochs=5)"
      ],
      "execution_count": 9,
      "outputs": [
        {
          "output_type": "stream",
          "text": [
            "Using TensorFlow backend.\n",
            "/usr/local/lib/python3.6/dist-packages/keras_applications/mobilenet.py:207: UserWarning: `input_shape` is undefined or non-square, or `rows` is not in [128, 160, 192, 224]. Weights for input shape (224, 224) will be loaded as the default.\n",
            "  warnings.warn('`input_shape` is undefined or non-square, '\n"
          ],
          "name": "stderr"
        },
        {
          "output_type": "stream",
          "text": [
            "Downloading data from https://github.com/fchollet/deep-learning-models/releases/download/v0.6/mobilenet_1_0_224_tf_no_top.h5\n",
            "17227776/17225924 [==============================] - 0s 0us/step\n",
            "Found 55 images belonging to 2 classes.\n",
            "Epoch 1/5\n",
            "1/1 [==============================] - 9s 9s/step - loss: 0.7722 - accuracy: 0.3478\n",
            "Epoch 2/5\n",
            "1/1 [==============================] - 5s 5s/step - loss: 4.6781 - accuracy: 0.3750\n",
            "Epoch 3/5\n",
            "1/1 [==============================] - 3s 3s/step - loss: 0.0234 - accuracy: 1.0000\n",
            "Epoch 4/5\n",
            "1/1 [==============================] - 5s 5s/step - loss: 2.7751 - accuracy: 0.4375\n",
            "Epoch 5/5\n",
            "1/1 [==============================] - 4s 4s/step - loss: 0.0015 - accuracy: 1.0000\n"
          ],
          "name": "stdout"
        }
      ]
    },
    {
      "cell_type": "code",
      "metadata": {
        "id": "Hex12rGFSShS",
        "colab_type": "code",
        "colab": {}
      },
      "source": [
        ""
      ],
      "execution_count": 0,
      "outputs": []
    },
    {
      "cell_type": "code",
      "metadata": {
        "id": "QEguYek5ATPe",
        "colab_type": "code",
        "outputId": "c5f48f40-9bac-4e89-ecfb-a18aacadfb3e",
        "colab": {
          "base_uri": "https://localhost:8080/",
          "height": 568
        }
      },
      "source": [
        "from deeplearn import loadModel,load_image\n",
        "import cv2\n",
        "filename = take_photo()\n",
        "print('Saved to {}'.format(filename))\n",
        "model = loadModel()\n",
        "font = cv2.FONT_HERSHEY_SIMPLEX \n",
        "# org \n",
        "org = (50, 50) \n",
        "# fontScale \n",
        "fontScale = 1\n",
        "# Blue color in BGR \n",
        "color = (255, 0, 0) \n",
        "# Line thickness of 2 px \n",
        "thickness = 2\n",
        "  # Show the image which was just taken.\n",
        "frame = cv2.imread('photo.jpg')\n",
        "new_image = load_image(frame)\n",
        "pred = model.predict(new_image)\n",
        "\n",
        "if(pred[0][0] > pred[0][1]):\n",
        "          text = 'Pouch present'\n",
        "else:\n",
        "          text = 'No pouch present'\n",
        "frame = cv2.putText(frame, text, org, font,  \n",
        "              fontScale, color, thickness, cv2.LINE_AA) \n",
        "#show the image\n",
        "cv2.imwrite('photo.jpg', frame)\n",
        "display(Image(filename))"
      ],
      "execution_count": 11,
      "outputs": [
        {
          "output_type": "display_data",
          "data": {
            "application/javascript": [
              "\n",
              "    async function takePhoto(quality) {\n",
              "      const div = document.createElement('div');\n",
              "      const capture = document.createElement('button');\n",
              "      capture.textContent = 'Capture';\n",
              "      div.appendChild(capture);\n",
              "\n",
              "      const video = document.createElement('video');\n",
              "      video.style.display = 'block';\n",
              "      const stream = await navigator.mediaDevices.getUserMedia({video: true});\n",
              "\n",
              "      document.body.appendChild(div);\n",
              "      div.appendChild(video);\n",
              "      video.srcObject = stream;\n",
              "      await video.play();\n",
              "\n",
              "      // Resize the output to fit the video element.\n",
              "      google.colab.output.setIframeHeight(document.documentElement.scrollHeight, true);\n",
              "\n",
              "      // Wait for Capture to be clicked.\n",
              "      await new Promise((resolve) => capture.onclick = resolve);\n",
              "\n",
              "      const canvas = document.createElement('canvas');\n",
              "      canvas.width = video.videoWidth;\n",
              "      canvas.height = video.videoHeight;\n",
              "      canvas.getContext('2d').drawImage(video, 0, 0);\n",
              "      stream.getVideoTracks()[0].stop();\n",
              "      div.remove();\n",
              "      return canvas.toDataURL('image/jpeg', quality);\n",
              "    }\n",
              "    "
            ],
            "text/plain": [
              "<IPython.core.display.Javascript object>"
            ]
          },
          "metadata": {
            "tags": []
          }
        },
        {
          "output_type": "stream",
          "text": [
            "Saved to photo.jpg\n"
          ],
          "name": "stdout"
        },
        {
          "output_type": "stream",
          "text": [
            "/usr/local/lib/python3.6/dist-packages/keras_applications/mobilenet.py:207: UserWarning: `input_shape` is undefined or non-square, or `rows` is not in [128, 160, 192, 224]. Weights for input shape (224, 224) will be loaded as the default.\n",
            "  warnings.warn('`input_shape` is undefined or non-square, '\n"
          ],
          "name": "stderr"
        },
        {
          "output_type": "display_data",
          "data": {
            "image/jpeg": "[encoded data removed]",
            "text/plain": [
              "<IPython.core.display.Image object>"
            ]
          },
          "metadata": {
            "tags": []
          }
        }
      ]
    }
  ]
}